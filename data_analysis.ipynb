{
 "cells": [
  {
   "cell_type": "markdown",
   "metadata": {},
   "source": [
    "# Notebook - WNBA Playoffs Qualification Prediction\n",
    "The objective of this project is developing a machine learning model that is able to predict which WNBA teams will be qualified to the playoffs in the next season, based on data on the previous seasons.\n",
    "\n",
    "Authors:\n",
    "- \n",
    "- Marcelo Apolinário\n",
    "- Pedro Gomes\n",
    "\n",
    "## Step 1: Data Analysis\n",
    "We started by importing all data from the .csv files into DataFrames:"
   ]
  },
  {
   "cell_type": "code",
   "execution_count": null,
   "metadata": {},
   "outputs": [],
   "source": [
    "import pandas as pd\n",
    "\n",
    "awards_players = pd.read_csv('dataset/awards_players.csv')\n",
    "coaches = pd.read_csv('dataset/coaches.csv')\n",
    "players = pd.read_csv('dataset/players.csv')\n",
    "players_teams = pd.read_csv('dataset/players_teams.csv')\n",
    "series_post = pd.read_csv('dataset/series_post.csv')\n",
    "teams = pd.read_csv('dataset/teams.csv')\n",
    "teams_post  = pd.read_csv('dataset/teams_post.csv')"
   ]
  },
  {
   "cell_type": "markdown",
   "metadata": {},
   "source": [
    "After importing the .csv files, we started taking a look at each of the tables, to see the data we had available to work on. We also took some notes about each of the table's attributes, to make it easier to analyse and understand the data. Below, we have an explanation of each attribute of eah table and a sample of lines taken from the table.\n",
    "\n",
    "## Table: Awards-Players\n",
    "\n",
    "This table represents an association between a player and an award she received.\n",
    "\n",
    "### Attribute Specification\n",
    "\n",
    "| Attribute Name | Description |\n",
    "| -- | -- |\n",
    "|playerID|Player identifier|\n",
    "|award|Name of the award|\n",
    "|year|Year the player was awarded with this award|\n",
    "|lgID|League identifier for the league where the player was awarded|\n",
    "\n",
    "### Table Sample"
   ]
  },
  {
   "cell_type": "code",
   "execution_count": null,
   "metadata": {},
   "outputs": [],
   "source": [
    "awards_players.head(15)"
   ]
  },
  {
   "cell_type": "markdown",
   "metadata": {},
   "source": [
    "### Table Analysis"
   ]
  },
  {
   "cell_type": "code",
   "execution_count": null,
   "metadata": {},
   "outputs": [],
   "source": [
    "print(awards_players.describe())"
   ]
  },
  {
   "cell_type": "markdown",
   "metadata": {},
   "source": [
    "## Table: Coaches\n",
    "\n",
    "Represents an association between a Coach, a year of the league, a team and the gathered stats about it.\n",
    "\n",
    "### Attribute Specification\n",
    "| Attribute Name | Description |\n",
    "|--|--|\n",
    "|coachID| Indicates which coach the stats refer to|\n",
    "|year| Indicates the year the stats refer to|\n",
    "|tmID| Indicates the team the stats refer to|\n",
    "|lgID| Indicates the league the stats refer to|\n",
    "|stint| Period of time that a player, coach, or other individual spends with a particular team or in the league itself|\n",
    "|won| Number of matches won by the team in the specified year|\n",
    "|lost| Number of matches lost by the team in the specified year|\n",
    "|post_wins| Number of wins during playoffs|\n",
    "|post_losses| Number of losses during playoffs|\n",
    "\n",
    "### Table Sample\n"
   ]
  },
  {
   "cell_type": "code",
   "execution_count": null,
   "metadata": {},
   "outputs": [],
   "source": [
    "coaches.head(15)"
   ]
  },
  {
   "cell_type": "markdown",
   "metadata": {},
   "source": [
    "### Table Analysis"
   ]
  },
  {
   "cell_type": "code",
   "execution_count": null,
   "metadata": {},
   "outputs": [],
   "source": [
    "print(coaches.describe())"
   ]
  },
  {
   "cell_type": "markdown",
   "metadata": {},
   "source": [
    "## Table : Players\n",
    "\n",
    "Associates a series of stats with a player.\n",
    "\n",
    "|Attribute|Description|\n",
    "|--|--|\n",
    "|bioID| Indicates the player the stats refer to.|\n",
    "|pos| Position the player plays in ??? ||\n",
    "|firstseason| (aparece todos os valores a 0)|\n",
    "|lastseason| (aparece todos os valores a 0)|\n",
    "|height| Player's height|\n",
    "|weight| Player's weight|\n",
    "|college| College the player attended to|\n",
    "|collegeOther| Another college the player attended to|\n",
    "|birthDate| Player's date of birth|\n",
    "|deathDate| Player's date of death (\"0000-00-00\" in case the player is still alive)|\n",
    "\n",
    "### Table Sample"
   ]
  },
  {
   "cell_type": "code",
   "execution_count": null,
   "metadata": {},
   "outputs": [],
   "source": [
    "players.head(15)"
   ]
  },
  {
   "cell_type": "markdown",
   "metadata": {},
   "source": [
    "### Table Analysis"
   ]
  },
  {
   "cell_type": "code",
   "execution_count": null,
   "metadata": {},
   "outputs": [],
   "source": [
    "print(players.describe())"
   ]
  },
  {
   "cell_type": "markdown",
   "metadata": {},
   "source": [
    "## Table: Players-Teams\n",
    "Associates a player with a year, the team they played in that year and a set of stats on their performance.\n",
    "\n",
    "|Attribute|Description|\n",
    "|--|--|\n",
    "|playerID| Identifies a player|\n",
    "|year| Year the player played in the team|\n",
    "|stint|???|\n",
    "|tmID| Identifies the team the player played in|\n",
    "|lgID| Identifies the league the stats refer to|\n",
    "|GP| Games Played|\n",
    "|GS| Games Started(???)|\n",
    "|minutes| Minutes Played|\n",
    "|points| Points Scored (???)|\n",
    "|oRebounds| Offensive Rebounds|\n",
    "|dRebounds| Defensive Rebounds|\n",
    "|rebounds| Total Rebounds|\n",
    "|assists| Assists|\n",
    "|steals| Steals|\n",
    "|blocks| Blocks|\n",
    "|turnovers| Turnovers|\n",
    "|PF| ???|\n",
    "|fgAttempted| Field Goals Attempted|\n",
    "|fgMade| Field Goals Made|\n",
    "|ftAttempted| Free Throws Attempted|\n",
    "|ftMade| Free Throws Made|\n",
    "|threeAttempted| Three Point Field Goals Attempted|\n",
    "|threeMade| Three Point Field Goals Made|\n",
    "|dq|???|\n",
    "|PostGP| Games Played in the Playoffs|\n",
    "|PostGS| Games Started in the Playoffs|\n",
    "|PostMinutes| Minutes Played in the Playoffs|\n",
    "|PostPoints| Points Scored in the Playoffs|\n",
    "|PostoRebounds| Offensive Rebounds in the Playoffs|\n",
    "|PostdRebounds| Defensive Rebounds in the Playoffs|\n",
    "|PostRebounds| Total Rebounds in the Playoffs|\n",
    "|PostAssists| Assists in the Playoffs|\n",
    "|PostSteals| Steals in the Playoffs|\n",
    "|PostBlocks| Blocks in the Playoffs|\n",
    "|PostTurnovers| Turnovers in the Playoffs|\n",
    "|PostPF| ??? in the Playoffs|\n",
    "|PostfgAttempted|Field Goals Attempted in the Playoffs|\n",
    "|PostfgMade|Field Goals Made in the Playoffs|\n",
    "|PostftAttempted| Free Throws Attempte in the Playoffs|\n",
    "|PostftMade| Free Throws Made in the Playoffs|\n",
    "|PostthreeAttempted|Three Point Field Goals Attempted in the Playoffs|\n",
    "|PostthreeMade|Three Point Field Goals Made in the Playoffs|\n",
    "|PostDQ|???  in the Playoffs|"
   ]
  },
  {
   "cell_type": "markdown",
   "metadata": {},
   "source": [
    "### Table Sample"
   ]
  },
  {
   "cell_type": "code",
   "execution_count": null,
   "metadata": {},
   "outputs": [],
   "source": [
    "players_teams.head(15)"
   ]
  },
  {
   "cell_type": "markdown",
   "metadata": {},
   "source": [
    "### Table Analysis"
   ]
  },
  {
   "cell_type": "code",
   "execution_count": null,
   "metadata": {},
   "outputs": [],
   "source": [
    "print(players_teams.describe())"
   ]
  },
  {
   "cell_type": "markdown",
   "metadata": {},
   "source": [
    "# Table : Series-Post\n",
    "\n",
    "Represents the results of playoff matches along the years. It is important to notice that playoffs work in the following way:\n",
    "- The 8 best teams are qualified for the playoffs\n",
    "- Four pairs of teams are formed to play the Quarter Finals (round = FR) (series A to D)\n",
    "- Two pairs of teams qualify to Semi Finals (round = CF) (series E and F)\n",
    "- A pair of teams qualifies to Finals (round = F) (series G)\n",
    "- Each series plays of in a best-of-three format\n",
    "\n",
    "|Attribute|Description|\n",
    "|--|--|\n",
    "|year|Year the data is associated to|\n",
    "|round|Specifies the round each match was played|\n",
    "|series|Indicates the order the matches occurred|\n",
    "|tmIDWinner| Identifies the winner team in the match|\n",
    "|lgIDWinner| Identifies the league of the winner team|\n",
    "|tmIDLoser| Identifies the loser team in the match|\n",
    "|lgIDLoser| Identifies the league of the loser team|\n",
    "|W|Number of Rounds Won by the Winner|\n",
    "|L|Numbers of Rounds Won by the Loser|\n",
    "\n",
    "##  Table Sample"
   ]
  },
  {
   "cell_type": "code",
   "execution_count": null,
   "metadata": {},
   "outputs": [],
   "source": [
    "series_post.head(15)"
   ]
  },
  {
   "cell_type": "markdown",
   "metadata": {},
   "source": [
    "## Table Analysis"
   ]
  },
  {
   "cell_type": "code",
   "execution_count": null,
   "metadata": {},
   "outputs": [],
   "source": [
    "print(series_post.describe())"
   ]
  },
  {
   "cell_type": "markdown",
   "metadata": {},
   "source": [
    "# Table : Teams\n",
    "\n",
    "Associates a team with their data over a year.\n",
    "\n",
    "|Attribute|Description|\n",
    "|--|--|\n",
    "|year|States the year the data refers to|\n",
    "|lgID|Identifies the league|\n",
    "|tmID|Identifies the team|\n",
    "|franchID|???|\n",
    "|confID|East or West Side|\n",
    "|divID|???|\n",
    "|rank|Position|\n",
    "|playoff|Wether the team Qualified to Playoffs or not|\n",
    "|seeded|???|\n",
    "|firstRound|Results in the quarter finals|\n",
    "|semis|Results in the semi finals|\n",
    "|finals|Results in the finals|\n",
    "|name|Team Name|\n",
    "|o_fgm||\n",
    "|o_fga||\n",
    "|o_ftm||\n",
    "|o_fta||\n",
    "|o_3pm||\n",
    "|o_3pa||\n",
    "|o_oreb||\n",
    "|o_dreb||\n",
    "|o_reb||\n",
    "|o_asts||\n",
    "|o_pf||\n",
    "|o_stl||\n",
    "|o_to||\n",
    "|o_blk||\n",
    "|o_pts||\n",
    "|d_fgm||\n",
    "|d_fga||\n",
    "|d_ftm||\n",
    "|d_fta||\n",
    "|d_3pm||\n",
    "|d_3pa||\n",
    "|d_oreb||\n",
    "|d_dreb||\n",
    "|d_reb||\n",
    "|d_asts||\n",
    "|d_pf||\n",
    "|d_stl||\n",
    "|d_to||\n",
    "|d_blk||\n",
    "|d_pts||\n",
    "|tmORB||\n",
    "|tmDRB||\n",
    "|tmTRB||\n",
    "|opptmORB||\n",
    "|opptmDRB||\n",
    "|opptmTRB||\n",
    "|won|Matches Won|\n",
    "|lost|Matches Lost|\n",
    "|GP|Games Played|\n",
    "|homeW|Matches Won at home stadium|\n",
    "|homeL|Matches Lost at home stadium|\n",
    "|awayW|Matches Won outside home stadium|\n",
    "|awayL|Matches Lost outside home stadium|\n",
    "|confW|???|\n",
    "|confL|???|\n",
    "|min|Minutes Played|\n",
    "|attend|???|\n",
    "|arena|Home Stadium|\n",
    "## Table Sample"
   ]
  },
  {
   "cell_type": "code",
   "execution_count": null,
   "metadata": {},
   "outputs": [],
   "source": [
    "teams.head(15)"
   ]
  },
  {
   "cell_type": "markdown",
   "metadata": {},
   "source": [
    "## Table Analysis"
   ]
  },
  {
   "cell_type": "code",
   "execution_count": null,
   "metadata": {},
   "outputs": [],
   "source": [
    "print(teams.describe())"
   ]
  },
  {
   "cell_type": "markdown",
   "metadata": {},
   "source": [
    "# Table : Teams-Post\n",
    "\n",
    "Represents the overall results of each team that qualified to the playoffs in each year.\n",
    "\n",
    "|Attribute|Description|\n",
    "|--|--|\n",
    "|year|Year the data refers to|\n",
    "|tmID|Team the data refers to|\n",
    "|lgID|League the data refers to|\n",
    "|W|Matches Won|\n",
    "|L|Matches Lost|\n",
    "\n",
    "## Table Sample"
   ]
  },
  {
   "cell_type": "code",
   "execution_count": null,
   "metadata": {},
   "outputs": [],
   "source": [
    "teams_post.head(15)"
   ]
  },
  {
   "cell_type": "markdown",
   "metadata": {},
   "source": [
    "## Table Analysis"
   ]
  },
  {
   "cell_type": "code",
   "execution_count": null,
   "metadata": {},
   "outputs": [],
   "source": [
    "print(teams_post.describe())"
   ]
  },
  {
   "cell_type": "markdown",
   "metadata": {},
   "source": [
    "## Step 2: Data Cleaning and Preprocessing\n",
    "\n",
    "In this step the data is cleaned and organized, to ensure it's ready for further analysis and modeling."
   ]
  },
  {
   "cell_type": "markdown",
   "metadata": {},
   "source": [
    "### Table: Awards_Players\n",
    "\n",
    "There are no missing values nor cases of data inconsistency in this table."
   ]
  },
  {
   "cell_type": "markdown",
   "metadata": {},
   "source": [
    "### Table: Coaches\n",
    "\n",
    "There are no missing values nor cases of data inconsistency in this table."
   ]
  },
  {
   "cell_type": "markdown",
   "metadata": {},
   "source": [
    "### Table: Players\n",
    "\n",
    "There are some issues with this table that call for cleaning, these being:\n",
    "\n",
    "- Some players seem to lack a designated position in the column `pos`. To fix these missing values, every player that didn't have a specified position was given the position *N*.\n",
    "- Some players also don't have a specified height and weight. To fix this, the mean value for each of these attributes is calculated and then given to all players whose these values are missing.\n",
    "- The college names are also missing for a few players. The solution for this issue was easier, as for some entries there's already a **none** value. So it'll be assumed that the blank values also mean that the player didn't go to college."
   ]
  },
  {
   "cell_type": "code",
   "execution_count": null,
   "metadata": {},
   "outputs": [],
   "source": [
    "# Showcase the missing and unspecified values in the aforementioned columns\n",
    "print(f'Missing values in `pos`: {players[\"pos\"].isna().sum()}')\n",
    "print(f'Unspecified values in `height`: {(players[\"height\"] == 0).sum()}')\n",
    "print(f'Unspecified values in `weight`: {(players[\"weight\"] == 0).sum()}')\n",
    "print(f'Missing values in `college`: {players[\"college\"].isna().sum()}')\n",
    "print(f'Missing values in `collegeOther`: {players[\"collegeOther\"].isna().sum()}')\n",
    "\n",
    "# Replacing the values\n",
    "players[\"pos\"].fillna(\"N\", inplace=True)\n",
    "players[\"height\"].replace(0, int(players[\"height\"].mean()), inplace=True)\n",
    "players[\"weight\"].replace(0, int(players[\"weight\"].mean()), inplace=True)\n",
    "players[\"college\"].fillna(\"none\", inplace=True)\n",
    "players[\"collegeOther\"].fillna(\"none\", inplace=True)"
   ]
  },
  {
   "cell_type": "markdown",
   "metadata": {},
   "source": [
    "### Table: Players_Teams\n",
    "\n",
    "There are no missing values nor cases of data inconsistency in this table."
   ]
  },
  {
   "cell_type": "markdown",
   "metadata": {},
   "source": [
    "### Table: Teams\n",
    "\n",
    "This table has a couple of issues worthy of pointing out:\n",
    "\n",
    "- The `divID` column is missing values for every row of the table, therefore it's best to remove it altogether.\n",
    "- Features relating to the playoff results of each team: `firstRound`, `semis`, `finals`; obviously lack values for the teams that didn't make it to the playoffs that season or, for teams who did, dropped out in the earlier rounds. Ideally a solution would be sought to fix the missing data here, however for the goal of predicting playoff qualification, these features will most likely not be necessary, therefore won't need to be touched.\n",
    "\n",
    "As for preprocessing:\n",
    "\n",
    "- The `playoff` column is converted into a binary representation where the *Y* is 1 and *N* is 0. It'll make it easier to work with and to use with the models."
   ]
  },
  {
   "cell_type": "code",
   "execution_count": null,
   "metadata": {},
   "outputs": [],
   "source": [
    "# Show values of `divID` column\n",
    "print(f'No. of rows: {len(teams)}')\n",
    "print(f'No. of missing values in `divID`: {teams[\"divID\"].isna().sum()}')\n",
    "\n",
    "# Drop `divID` column\n",
    "teams.drop(columns=['divID'], inplace=True)\n",
    "\n",
    "# Converting the `playoff` column to binary representation\n",
    "teams[\"playoff\"] = teams[\"playoff\"].map({'Y': 1, 'N': 0})"
   ]
  },
  {
   "cell_type": "markdown",
   "metadata": {},
   "source": [
    "### Table: Teams_Post\n",
    "\n",
    "To ensure consistency between the `playoff` column in the *Teams* table and the presence of a team in this table, two sets are created for each and then their difference computed."
   ]
  },
  {
   "cell_type": "code",
   "execution_count": null,
   "metadata": {},
   "outputs": [],
   "source": [
    "# Creating a set of (year, tmID) pairs for teams in the post-season data\n",
    "post_season_teams = set(teams_post[['year', 'tmID']].itertuples(index=False))\n",
    "\n",
    "# Creating a similar set for teams marked as 'playoff' in the regular season data\n",
    "regular_season_playoff_teams = set(teams[teams['playoff'] == 1][['year', 'tmID']].itertuples(index=False))\n",
    "\n",
    "# Checking if the sets are equal\n",
    "sets_are_equal = post_season_teams == regular_season_playoff_teams\n",
    "print(f'Are the sets consistent? {\"Yes\" if sets_are_equal else \"No\" }.')"
   ]
  },
  {
   "cell_type": "markdown",
   "metadata": {},
   "source": [
    "## Step 3: Exploratory Data Analysis\n",
    "\n",
    "Here, in this step, descriptive statistics and visualizations are generated to better understand the data and look for any patterns in it.\n",
    "\n",
    "- The bar plot below displays the 20 most awarded players and the number of awards they received"
   ]
  },
  {
   "cell_type": "code",
   "execution_count": null,
   "metadata": {},
   "outputs": [],
   "source": [
    "import matplotlib.pyplot as plt\n",
    "\n",
    "# TOP 20 PLAYERS BY NUMBER OF AWARDS\n",
    "\n",
    "# Group data by player and count the number of awards\n",
    "award_counts = awards_players['award'].groupby(awards_players['playerID']).count()\n",
    "\n",
    "# Sort the players by the number of awards received in descending order\n",
    "award_counts = award_counts.sort_values(ascending=False)\n",
    "\n",
    "# Create a horizontal bar chart\n",
    "award_counts[:20].plot(kind='barh', figsize=(12, 8))  # Display the top 20 players\n",
    "plt.title('Top 20 Players by Number of Awards')\n",
    "plt.xlabel('Number of Awards')\n",
    "plt.ylabel('Player ID')\n",
    "plt.gca().invert_yaxis()  # Invert the y-axis for the highest award count at the top\n",
    "plt.show()"
   ]
  },
  {
   "cell_type": "markdown",
   "metadata": {},
   "source": [
    "- This next one displays the teams and the amount of times each one has made it to the playoffs. From the graph, it's possible to see that a good amount of teams consistently make it to the playoffs across seasons, namely LAS having done so in all seasons except for one. There are also however some teams that have never made it, and a few that made it just once."
   ]
  },
  {
   "cell_type": "code",
   "execution_count": null,
   "metadata": {},
   "outputs": [],
   "source": [
    "# Plotting teams and the amount of times they've made it to the playoffs\n",
    "plt.figure(figsize=(8, 6))\n",
    "teams.groupby(teams[\"tmID\"]).sum()[\"playoff\"].plot(kind='bar', color='skyblue')\n",
    "plt.title('Distribution of Teams: No. of Playoffs Reached')\n",
    "plt.xlabel('Team ID')\n",
    "plt.ylabel('No. of Playoffs Reached')\n",
    "plt.show()"
   ]
  },
  {
   "cell_type": "markdown",
   "metadata": {},
   "source": [
    "- Next, let's explore the descriptive statistics of a team performance metrics, focusing on a few key metrics that are more likely to influence playoff qualification:\n",
    "   - **Wins** (total, home, away, and within the conference)\n",
    "   - **Losses** (total, home, away, and within the conference)\n",
    "   - **Rank**\n",
    "   - **Attendance**: This metric can reflect a team's popularity and/or fan engagement  \n",
    "<br>  \n",
    "  \n",
    "- A summary of the results:\n",
    "   - **Wins**: Teams that made it to the playoffs won, on average, around 20 games across the season, whereas teams that didn't make it only won around 12. Qualifying teams consistently won more games, whether home, away and within the conference than non-qualifying teams. As expected, teams have, on average, more Home Wins than Away Wins.\n",
    "   - **Losses**: Playoff teams average around 13 losses per season, with non-playoff teams losing about 21 games.\n",
    "   - **Rank**: Since playoff qualification is based on league rank, the playoff qualifying teams must be, and the metrics indeed show they are, ranked higher than non-qualifying ones. \n",
    "   - **Attendance**: The attendance for playoff teams is higher than that of non-playoff ones, around 14% percent higher more precisely."
   ]
  },
  {
   "cell_type": "code",
   "execution_count": null,
   "metadata": {},
   "outputs": [],
   "source": [
    "# Selecting key performance metrics\n",
    "key_metrics = ['won', 'homeW', 'awayW', 'confW', 'lost', 'homeL', 'awayL', 'confL', 'rank', 'attend']\n",
    "\n",
    "# Grouping by 'playoff' and computing the mean for each metric\n",
    "grouped_metrics = teams.groupby('playoff')[key_metrics].mean()\n",
    "\n",
    "grouped_metrics"
   ]
  },
  {
   "cell_type": "markdown",
   "metadata": {},
   "source": [
    "- To better visualize some of these metrics, these plots have been generated, comparing average wins and average losses between playoff and non-playoff teams."
   ]
  },
  {
   "cell_type": "code",
   "execution_count": null,
   "metadata": {},
   "outputs": [],
   "source": [
    "# Plotting average wins and losses for playoff vs. non-playoff teams\n",
    "fig, ax = plt.subplots(1, 2, figsize=(16, 6))\n",
    "\n",
    "# Wins\n",
    "grouped_metrics['won'].plot(kind='bar', ax=ax[0], color=['skyblue', 'salmon'])\n",
    "ax[0].set_title('Average Wins: Playoffs vs. No Playoffs')\n",
    "ax[0].set_xlabel('Made it to Playoffs')\n",
    "ax[0].set_ylabel('Average Wins')\n",
    "ax[0].set_xticklabels(['No', 'Yes'], rotation=0)\n",
    "\n",
    "# Losses\n",
    "grouped_metrics['lost'].plot(kind='bar', ax=ax[1], color=['skyblue', 'salmon'])\n",
    "ax[1].set_title('Average Losses: Playoffs vs. No Playoffs')\n",
    "ax[1].set_xlabel('Made it to Playoffs')\n",
    "ax[1].set_ylabel('Average Losses')\n",
    "ax[1].set_xticklabels(['No', 'Yes'], rotation=0)\n",
    "\n",
    "plt.tight_layout()\n",
    "plt.show()"
   ]
  },
  {
   "cell_type": "markdown",
   "metadata": {},
   "source": [
    "- The following histogram shows us how many coaches achieved a specific number of victories with the teams they trained along the years in the WNBA. With this histogram, we can conclude that both victories and losses are fairly well distributed between coaches. There is a lot of coaches with around 16 losses and a considerable amount with around 18 wins and the rest are scattered between 0 and 30 wins and losses respectively. "
   ]
  },
  {
   "cell_type": "code",
   "execution_count": null,
   "metadata": {},
   "outputs": [],
   "source": [
    "# COACHES HISTOGRAM\n",
    "\n",
    "import seaborn as sns\n",
    "\n",
    "# Select 'won' and 'lost' columns\n",
    "won = coaches['won']\n",
    "lost = coaches['lost']\n",
    "\n",
    "# Create subplots to display histograms side by side\n",
    "plt.figure(figsize=(12, 6))\n",
    "\n",
    "# Create a histogram for the 'won' column\n",
    "plt.subplot(1, 2, 1)\n",
    "plt.hist(won, bins=20, color='green', alpha=0.7)\n",
    "plt.title('Distribution of Wins with Coaches')\n",
    "plt.xlabel('Number of Wins')\n",
    "plt.ylabel('Frequency')\n",
    "\n",
    "# Create a histogram for the 'lost' column\n",
    "plt.subplot(1, 2, 2)\n",
    "plt.hist(lost, bins=20, color='red', alpha=0.7)\n",
    "plt.title('Distribution of Losses with Coaches')\n",
    "plt.xlabel('Number of Losses')\n",
    "plt.ylabel('Frequency')\n",
    "\n",
    "# Display the subplots\n",
    "plt.tight_layout()\n",
    "plt.show()"
   ]
  },
  {
   "cell_type": "markdown",
   "metadata": {},
   "source": [
    "- According to the box plots below, the coaches are fairly spread between 0 and 25 in number of wins and between 0 and 30 in number of losses. However, 50% of the coaches have between 10 and 20 wins and, in terms of losses, 50% of the registered coaches have between 12 and 18 losses, approximately. This tells us that despite having some exceptionally good coaches and some exceptionally bad, the vast majority of them are failry well concentrated around the medium value of both wins and losses."
   ]
  },
  {
   "cell_type": "code",
   "execution_count": null,
   "metadata": {},
   "outputs": [],
   "source": [
    "# COACHES WON-LOST BOX PLOT\n",
    "# Create a box plot for 'won'\n",
    "plt.figure(figsize=(12, 6))\n",
    "plt.subplot(1, 2, 1)\n",
    "plt.boxplot(won, vert=False)\n",
    "plt.title('Box Plot for Wins with Coaches')\n",
    "plt.xlabel('Number of Wins')\n",
    "\n",
    "# Create a box plot for 'lost'\n",
    "plt.subplot(1, 2, 2)\n",
    "plt.boxplot(lost, vert=False)\n",
    "plt.title('Box Plot for Losses with Coaches')\n",
    "plt.xlabel('Number of Losses')\n",
    "\n",
    "# Display the box plots\n",
    "plt.tight_layout()\n",
    "plt.show()"
   ]
  },
  {
   "cell_type": "markdown",
   "metadata": {},
   "source": [
    "- The Correlation Matrix below helps us understand how the Coach statistics correlate with each other. The conclusions we got from this plot were that:\n",
    "    - The year is weakly positive correlated to any of the other attributes of a Coach, meaning it influences wins, losses, playoff wins and playoff losses minimally but in a positive way\n",
    "    - The number of wins has a weak negative influence on the number of losses but a strong positive influence in the number of wins and losses on the playoffs\n",
    "    - The number of losses has a weak negative influence on the number of wins and a stronger but still weak negative influence in the number of wins and losses on the playoffs\n",
    "    - The playoff wins have a strong positive correlation with pre-playoff wins and playoff losses\n",
    "    - The playoff losses have a strong positive correlation with pre-playoff wins and playoff wins"
   ]
  },
  {
   "cell_type": "code",
   "execution_count": null,
   "metadata": {},
   "outputs": [],
   "source": [
    "import seaborn as sns\n",
    "\n",
    "# COACHES HEATMAP\n",
    "# Select the columns for the correlation analysis\n",
    "selected_columns = ['year', 'won', 'lost', 'post_wins', 'post_losses']\n",
    "\n",
    "# Create a subset of the dataset with selected columns\n",
    "coaches_subset = coaches[selected_columns]\n",
    "\n",
    "# Calculate the correlation matrix\n",
    "correlation_matrix = coaches_subset.corr()\n",
    "\n",
    "# Create a heatmap to visualize the correlation matrix\n",
    "plt.figure(figsize=(10, 8))\n",
    "sns.heatmap(correlation_matrix, annot=True, cmap='coolwarm', linewidths=.5)\n",
    "plt.title('Correlation Matrix of Coach Variables')\n",
    "plt.show()"
   ]
  },
  {
   "cell_type": "markdown",
   "metadata": {},
   "source": [
    "- With this plot, we can conclude that Guard is the most played position amongst the players and Center-Forward is the least played position in the WNBA. We can also visualize the distribution of players along other positions as well. It's worth noting that a player doesn't necessarily play always the same position."
   ]
  },
  {
   "cell_type": "code",
   "execution_count": null,
   "metadata": {},
   "outputs": [],
   "source": [
    "# Create a bar chart for the distribution of player positions\n",
    "position_counts = players['pos'].value_counts()\n",
    "position_counts.plot(kind='bar', figsize=(10, 6))\n",
    "plt.title('Distribution of Player Positions')\n",
    "plt.xlabel('Player Position')\n",
    "plt.ylabel('Count')\n",
    "plt.xticks(rotation=45)\n",
    "plt.show()"
   ]
  },
  {
   "cell_type": "markdown",
   "metadata": {},
   "source": [
    "- This plot allows us to conclude that 0.4% of the players in our dataset have already died and thus there are players that we have to consider in previous years (when they were alive and playing) but can't consider them now as part of any team."
   ]
  },
  {
   "cell_type": "code",
   "execution_count": null,
   "metadata": {},
   "outputs": [],
   "source": [
    "# Count of players still alive and those who have passed away\n",
    "players['deathDate'] = pd.to_datetime(players['deathDate'], errors='coerce')\n",
    "alive_players = players['deathDate'].isna().sum()\n",
    "passed_away_players = players['deathDate'].notna().sum()\n",
    "\n",
    "plt.figure(figsize=(6, 6))\n",
    "plt.pie([alive_players, passed_away_players], labels=['Alive', 'Passed Away'], autopct='%1.1f%%', startangle=140)\n",
    "plt.title('Players Status')\n",
    "plt.show()"
   ]
  },
  {
   "cell_type": "markdown",
   "metadata": {},
   "source": [
    "- To analyze the frequence of players with high performance statistics, we elaborated histograms comparing the amount of players with certain values of performance statistics. Here's what we concluded:\n",
    "    - Players are fairly distributed when it comes to minutes played, obviously having more players leaning to having played less time\n",
    "    - Some performance statistics are significantly lower in the majority of players (namely Free Throws and Three Point Goals) while others have a better distribution of players through high and low performance values (like Points Scored, Rebounds, Assists, Steals and Blocks)"
   ]
  },
  {
   "cell_type": "code",
   "execution_count": null,
   "metadata": {},
   "outputs": [],
   "source": [
    "# Merge the 'Players' and 'Players-Teams' tables based on 'bioID'\n",
    "merged_data = players_teams.merge(players[['bioID', 'birthDate']], left_on='playerID', right_on='bioID', how='inner')\n",
    "\n",
    "# Select the performance statistics columns you want to create histograms for\n",
    "performance_columns = ['minutes', 'points', 'oRebounds', 'dRebounds', 'assists', 'steals', 'blocks', 'turnovers', 'PF',\n",
    "                      'fgMade', 'fgAttempted', 'ftMade', 'ftAttempted', 'threeMade', 'threeAttempted']\n",
    "\n",
    "# Define the number of columns and rows for subplots\n",
    "num_columns = 4\n",
    "num_rows = (len(performance_columns) + num_columns - 1) // num_columns  # Calculate the number of rows\n",
    "\n",
    "# Create histograms for each selected performance statistic\n",
    "plt.figure(figsize=(15, 5 * num_rows))\n",
    "\n",
    "for i, column in enumerate(performance_columns, 1):\n",
    "    plt.subplot(num_rows, num_columns, i)\n",
    "    plt.hist(merged_data[column], bins=20, color='blue', alpha=0.7)\n",
    "    plt.title(f'Distribution of {column}')\n",
    "    plt.xlabel(column)\n",
    "    plt.ylabel('Count')\n",
    "\n",
    "plt.tight_layout()\n",
    "plt.show()"
   ]
  },
  {
   "cell_type": "markdown",
   "metadata": {},
   "source": [
    "- The plots below allow us to visualize the best 20 players in each statistic side by side, to have an idea on the top values of the league."
   ]
  },
  {
   "cell_type": "code",
   "execution_count": null,
   "metadata": {},
   "outputs": [],
   "source": [
    "# Merge the 'Players' and 'Players-Teams' tables based on 'bioID'\n",
    "merged_data = players_teams.merge(players[['bioID', 'birthDate', 'pos']], left_on='playerID', right_on='bioID', how='inner')\n",
    "\n",
    "# List of performance statistics you want to consider\n",
    "performance_statistics = ['points', 'rebounds', 'assists']\n",
    "\n",
    "# Create subplots for each performance statistic\n",
    "fig, axs = plt.subplots(len(performance_statistics), 1, figsize=(10, 15))\n",
    "\n",
    "for i, stat in enumerate(performance_statistics):\n",
    "    # Group data by player and calculate the total statistic for each player\n",
    "    player_stats = merged_data.groupby('bioID')[stat].sum()\n",
    "\n",
    "    # Sort players by the performance statistic in descending order and select the top 20\n",
    "    top_players = player_stats.sort_values(ascending=False).head(20)\n",
    "\n",
    "    # Create a bar chart for the top 20 players in the current statistic\n",
    "    axs[i].barh(top_players.index, top_players.values, color='blue', alpha=0.7)\n",
    "    axs[i].set_title(f'Top 20 Players in {stat}')\n",
    "    axs[i].set_xlabel(stat)\n",
    "    axs[i].set_ylabel('Player')\n",
    "    axs[i].invert_yaxis()\n",
    "\n",
    "plt.tight_layout()\n",
    "plt.show()"
   ]
  },
  {
   "cell_type": "markdown",
   "metadata": {},
   "source": [
    "- The plot below shows us how the points scored, assists and rebounds in matches distribute themselves between teams in the 10 seasons we have data on."
   ]
  },
  {
   "cell_type": "code",
   "execution_count": null,
   "metadata": {},
   "outputs": [],
   "source": [
    "# Merge the 'Players' and 'Players-Teams' tables based on 'bioID'\n",
    "merged_data = players_teams.merge(players[['bioID', 'birthDate']], left_on='playerID', right_on='bioID', how='inner')\n",
    "\n",
    "# List of performance statistics you want to create histograms for\n",
    "performance_statistics = ['points', 'rebounds', 'assists']\n",
    "\n",
    "# Create histograms for each performance statistic separated by team\n",
    "for stat in performance_statistics:\n",
    "    # Group the data by team and calculate statistics for each team\n",
    "    team_stats = merged_data.groupby('tmID')[stat].mean()\n",
    "\n",
    "    # Create histograms for each team's performance\n",
    "    plt.figure(figsize=(12, 6))\n",
    "    team_stats.plot(kind='bar', color='blue', alpha=0.7)\n",
    "    plt.title(f'{stat} Distribution by Team')\n",
    "    plt.xlabel('Team')\n",
    "    plt.ylabel(stat)\n",
    "    plt.xticks(rotation=45)\n",
    "    plt.show()"
   ]
  },
  {
   "cell_type": "markdown",
   "metadata": {},
   "source": [
    "- According to this correlation matrix between players performance statistic and wins and losses of their teams, we can take many conclusions:\n",
    "    - Minutes Played has (as expected) a strong positive impact in all other player performances, despite having a weak megative impact on number of wins and losses\n",
    "    - Assists and Offensive Rebounds do not strongly correlate to each other, having only a weak positive impact over the other. The same happens between Assists and Blocks.\n",
    "    - The rest of the player performance statistics strongly correlate positively to each  other, with an highlight for Points Scored, that is strongly positively impacted by all of them except Blocks.\n",
    "    - The number of wins and losses of a team is not strongly impacted by any of the statistics individually, meaning that one of them alone wouldn't be enough to define a win or a loss in a game."
   ]
  },
  {
   "cell_type": "code",
   "execution_count": null,
   "metadata": {},
   "outputs": [],
   "source": [
    "\n",
    "# Merge the 'Players' and 'Players-Teams' tables based on 'bioID'\n",
    "merged_data = players_teams.merge(players[['bioID', 'birthDate', 'pos']], left_on='playerID', right_on='bioID', how='inner')\n",
    "\n",
    "# Filter data for matches before the playoffs\n",
    "before_playoffs_data = merged_data[merged_data['stint'] == 1]\n",
    "\n",
    "# Merge 'Coaches' data to associate players with team results before playoffs\n",
    "combined_data = before_playoffs_data.merge(coaches[['year', 'tmID', 'won', 'lost']], on=['year', 'tmID'], how='inner')\n",
    "\n",
    "# Select relevant player performance statistics and team results columns\n",
    "performance_statistics = ['minutes','points', 'oRebounds', 'dRebounds', 'assists', 'steals', 'blocks', 'turnovers', 'PF',\n",
    "                         'fgMade', 'fgAttempted', 'ftMade', 'ftAttempted', 'threeMade', 'threeAttempted']\n",
    "team_results = ['won', 'lost']\n",
    "\n",
    "# Calculate the correlation matrix\n",
    "correlation_matrix = combined_data[performance_statistics + team_results].corr()\n",
    "\n",
    "# Create a heatmap to visualize the correlation matrix\n",
    "plt.figure(figsize=(12, 10))\n",
    "sns.heatmap(correlation_matrix, annot=True, cmap='coolwarm', linewidths=.5)\n",
    "plt.title('Correlation Matrix of Player Performance and Team Results (Before Playoffs)')\n",
    "plt.show()"
   ]
  },
  {
   "cell_type": "markdown",
   "metadata": {},
   "source": [
    "- This plot allows us to see each team amount of wins along the seasons and compare them with each other. Analysing it, we can conclude that there were teams that were on top some seasons ago and are now decaying in terms of wins while some teams that were lower positioned before are now doing better. This allows us to understand that despite a team having won a lot of matches last year, as players and coaches switch and their performance varies, it is possible for a team to have a completely different performance next season."
   ]
  },
  {
   "cell_type": "code",
   "execution_count": null,
   "metadata": {},
   "outputs": [],
   "source": [
    "\n",
    "# Sort the data by the year (or relevant time variable).\n",
    "teams_sorted = teams.sort_values(by='year')\n",
    "\n",
    "# Create a line chart to visualize the wins of all teams over time.\n",
    "plt.figure(figsize=(12, 6))\n",
    "\n",
    "# Define a list of distinct line colors for the teams.\n",
    "colors = ['b', 'g', 'r', 'c', 'm', 'y', 'k', 'orange', 'purple', 'pink',\n",
    "          'lime', 'brown', 'gray', 'olive', 'cyan', 'teal', 'indigo', 'gold', 'darkred']\n",
    "\n",
    "# Iterate over each team and set the line color from the 'colors' list.\n",
    "for i, (team, data) in enumerate(teams_sorted.groupby('franchID')):\n",
    "    color = colors[i % len(colors)]\n",
    "    plt.plot(data['year'], data['won'], label=team, marker='o', color=color)\n",
    "\n",
    "# Customize the chart labels and title.\n",
    "plt.xlabel('Year')\n",
    "plt.ylabel('Wins')\n",
    "plt.title('Wins of All Teams Over Time')\n",
    "plt.xticks(rotation=45)  # Rotate x-axis labels for readability\n",
    "\n",
    "# Add a legend to distinguish teams and place it in the upper left corner.\n",
    "plt.legend(loc='lower right')\n",
    "\n",
    "# Show the line chart.\n",
    "plt.grid(True)\n",
    "plt.tight_layout()\n",
    "plt.show()"
   ]
  },
  {
   "cell_type": "markdown",
   "metadata": {},
   "source": [
    "- This plot shows us the percentage of seasons where each team qualified for the playoffs. Judging by this plot and assuming there weren't a lot of changes to the teams, there are some teams that are more probably going to qualify in the next season."
   ]
  },
  {
   "cell_type": "code",
   "execution_count": null,
   "metadata": {},
   "outputs": [],
   "source": [
    "\n",
    "# Group the data by team and calculate the playoff qualification rate.\n",
    "team_playoff_stats = teams.groupby('franchID').agg({'playoff': 'sum', 'year': 'count'})\n",
    "\n",
    "# Calculate the playoff qualification rate as the number of playoff appearances divided by the total seasons.\n",
    "team_playoff_stats['qualification_rate'] = (team_playoff_stats['playoff'] / team_playoff_stats['year']) * 100\n",
    "\n",
    "# Sort the data by qualification rate in descending order.\n",
    "team_playoff_stats = team_playoff_stats.sort_values(by='qualification_rate', ascending=False)\n",
    "\n",
    "# Create a bar chart to display the playoff qualification rate for each team.\n",
    "plt.figure(figsize=(12, 6))\n",
    "plt.bar(team_playoff_stats.index, team_playoff_stats['qualification_rate'], color='skyblue')\n",
    "plt.xlabel('Team')\n",
    "plt.ylabel('Playoff Qualification Rate (%)')\n",
    "plt.title('Playoff Qualification Rate for Each Team')\n",
    "plt.xticks(rotation=90)  # Rotate x-axis labels for readability\n",
    "\n",
    "# Show the bar chart.\n",
    "plt.grid(axis='y')\n",
    "plt.tight_layout()\n",
    "plt.show()"
   ]
  },
  {
   "cell_type": "markdown",
   "metadata": {},
   "source": [
    "- Observing this bar chart, we can conclude that West Conference teams have slightly won more matches than East Conference teams but both seem fairly balanced. "
   ]
  },
  {
   "cell_type": "code",
   "execution_count": null,
   "metadata": {},
   "outputs": [],
   "source": [
    "# Group the data by conference and calculate the average number of wins and losses.\n",
    "conference_stats = teams.groupby('confID').agg({'won': 'mean', 'lost': 'mean'})\n",
    "\n",
    "# Create a bar chart to compare team performances by conference.\n",
    "plt.figure(figsize=(10, 6))\n",
    "conference_stats.plot(kind='bar', color=['skyblue', 'lightcoral'], alpha=0.7, stacked=False)\n",
    "plt.xlabel('Conference')\n",
    "plt.ylabel('Average Wins and Losses')\n",
    "plt.title('Team Performance by Conference')\n",
    "plt.xticks(rotation=0)  # Remove rotation for horizontal labels\n",
    "\n",
    "# Show the bar chart.\n",
    "plt.grid(axis='y')\n",
    "plt.tight_layout()\n",
    "plt.show()"
   ]
  },
  {
   "cell_type": "markdown",
   "metadata": {},
   "source": [
    "- This plot allows us to see how team performance varies each year with different team attendance values. From here we can conclude:\n",
    "    - Teams that had the bigger attendance values are also the ones with better performances but its also in that zone of the statistics that we find the teams with worse performances\n",
    "    - Teams that have a really low attendance or a really high attendance have a performance closer to average"
   ]
  },
  {
   "cell_type": "code",
   "execution_count": null,
   "metadata": {},
   "outputs": [],
   "source": [
    "\n",
    "# Select the columns for attendance and performance\n",
    "attendance_column = 'attend'\n",
    "performance_column = 'won'  # You can choose 'won', 'lost', or other performance metric\n",
    "\n",
    "# Create the scatter plot\n",
    "plt.figure(figsize=(10, 6))\n",
    "scatter = plt.scatter(teams[attendance_column], teams[performance_column], c='b', alpha=0.5, edgecolors='k')\n",
    "\n",
    "# Add labels for individual data points (teams) with their respective years\n",
    "for i, team in enumerate(teams['tmID']):\n",
    "    plt.annotate(f'{team} ({teams[\"year\"].iloc[i]})', (teams[attendance_column][i], teams[performance_column][i]))\n",
    "\n",
    "plt.xlabel('Attendance')\n",
    "plt.ylabel('Performance (Wins)')\n",
    "plt.title('Team Attendance vs. Performance Scatter Plot')\n",
    "\n",
    "# Show the scatter plot\n",
    "plt.grid(True)\n",
    "plt.tight_layout()\n",
    "plt.show()"
   ]
  },
  {
   "cell_type": "markdown",
   "metadata": {},
   "source": [
    "- This Correlation Matrix compare Team Performance Statistics and their Attendance values. From this plot we can conclude that:\n",
    "    - Games Played and Attendance are obviously strongly positively correlated and so are the total wins with each type of win counts (same for losses)\n",
    "    - Attendance is not positiviely correlated to any of the team performance statistics individually, meaning that just the attendance isn't enough to determine a team's performance during a season"
   ]
  },
  {
   "cell_type": "code",
   "execution_count": null,
   "metadata": {},
   "outputs": [],
   "source": [
    "# Select columns for attendance and performance statistics (excluding opponent statistics)\n",
    "selected_columns = ['attend', 'won', 'lost', 'GP', 'homeW', 'homeL', 'awayW', 'awayL',\n",
    "                    'confW', 'confL', 'min', 'o_3pm', 'd_3pm', 'o_pts', 'd_pts']\n",
    "\n",
    "# Create a new DataFrame with only the selected columns\n",
    "team_performance = teams[selected_columns]\n",
    "\n",
    "# Calculate the correlation matrix\n",
    "correlation_matrix = team_performance.corr()\n",
    "\n",
    "# Create a heatmap of the correlation matrix using Seaborn\n",
    "plt.figure(figsize=(10, 8))\n",
    "sns.heatmap(correlation_matrix, annot=True, cmap='coolwarm', linewidths=.5)\n",
    "plt.title('Correlation Matrix: Attendance vs. Performance Statistics')\n",
    "plt.show()"
   ]
  },
  {
   "cell_type": "markdown",
   "metadata": {},
   "source": [
    "- Based on the box plot below we can conclude that:\n",
    "    - Home Wins are more frequent than Away Wins\n",
    "    - Home Win amount is more spread than Away Win amount, even in terms of the 50% of the data more close to average "
   ]
  },
  {
   "cell_type": "code",
   "execution_count": null,
   "metadata": {},
   "outputs": [],
   "source": [
    "\n",
    "# Select columns for home wins and away wins\n",
    "home_wins = teams['homeW']\n",
    "away_wins = teams['awayW']\n",
    "\n",
    "# Create a new DataFrame with selected columns\n",
    "wins_data = pd.DataFrame({'Home Wins': home_wins, 'Away Wins': away_wins})\n",
    "\n",
    "# Create a box plot to compare home wins and away wins\n",
    "plt.figure(figsize=(6, 4))\n",
    "\n",
    "plt.boxplot(wins_data.values, labels=wins_data.columns, vert=False)\n",
    "plt.title('Home Wins vs. Away Wins')\n",
    "plt.xlabel('Wins')\n",
    "plt.ylabel('Game Locations')\n",
    "\n",
    "plt.tight_layout()\n",
    "plt.show()"
   ]
  },
  {
   "cell_type": "markdown",
   "metadata": {},
   "source": [
    "## Step 4: Feature Engineering\n",
    "\n",
    "In this step, we will decide what features to use in the model and how put them together.\n"
   ]
  },
  {
   "cell_type": "markdown",
   "metadata": {},
   "source": [
    "- The player awards intend to demonstrate the value that player/coach has, its remarkable capabilities that stand out from the rest, and the potential it can bring to their team's success. \n",
    "\n",
    "  Therefore, it would make sense to assume that a team whose members have attained more awards, likely has a higher chance to succeed and make the playoffs. There are also several kind of awards, some more important than others - especially in the sense of influencing a team's overall success (eg: sportmanship awards) - that hold more meaning and represent higher accolades.  \n",
    "  \n",
    "  In this vein, each award will be associated with an arbitrary numerical value, the higher this value being, the more valuable the award is."
   ]
  },
  {
   "cell_type": "code",
   "execution_count": null,
   "metadata": {},
   "outputs": [],
   "source": [
    "# Show all the different awards present in the *awards_players* table\n",
    "awards_players['award'].unique()"
   ]
  },
  {
   "cell_type": "code",
   "execution_count": null,
   "metadata": {},
   "outputs": [],
   "source": [
    "# Assign numerical values to each award\n",
    "award_values = {\n",
    "    'All-Star Game Most Valuable Player': 3.5,\n",
    "    'Coach of the Year': 3,\n",
    "    'Defensive Player of the Year': 2,\n",
    "    'Kim Perrot Sportsmanship': 1,\n",
    "    'Kim Perrot Sportsmanship Award': 1,\n",
    "    'Most Improved Player': 2,\n",
    "    'Most Valuable Player': 4,\n",
    "    'Rookie of the Year': 2.5,\n",
    "    'Sixth Woman of the Year': 1.5,\n",
    "    'WNBA Finals Most Valuable Player': 3,\n",
    "    'WNBA All-Decade Team': 5,\n",
    "    'WNBA All Decade Team Honorable Mention': 4.5\n",
    "}\n",
    "\n",
    "# Create new column with the numerical value for each award\n",
    "awards_players['award_value'] = [award_values[award] for award in awards_players['award']]\n",
    "\n",
    "awards_players"
   ]
  },
  {
   "cell_type": "markdown",
   "metadata": {},
   "source": [
    "- Many attributes across the tables are redundant, for example, the stats displayed in the team's *teams* table is just an aggregation and sum of the individual player's stats of that team in that year in the respective *players_teams* table. Since the data is already mostly summarized in the *teams* table, that will be the main table to look at as the features to be used in the models are selected.  \n",
    "\n",
    "  Some tables also contain data pertaining to the post season, which is outside the scope of determining whether a team makes it in the post season in the first place. Including this kind of information in our models would lead to data leakage, thus they'll be left out.  \n",
    "  \n",
    "- Looking into the *teams* table, and the heatmap showcasing the correlation between its features and the target, these are the features selected to train the models:\n",
    "\n",
    "|       Name        | Feature  |\n",
    "| ----------------- | :------: |\n",
    "| Year              | `year`   |\n",
    "| Team              | `tmID`   |\n",
    "| Wins              | `won`    |\n",
    "| Home wins         | `homeW`  |\n",
    "| Away wins         | `awayW`  |\n",
    "| Conf wins         | `confW`  |\n",
    "| Losses            | `lost`   |\n",
    "| Home losses       | `homeL`  |\n",
    "| Away losses       | `awayL`  |\n",
    "| Conf losses       | `confL`  |\n",
    "| Rank              | `rank`   |\n",
    "| Attendance        | `attend` |\n",
    "| Team's points     | `d_pts`  |\n",
    "| Opponent's points | `o_pts`  |\n",
    "   \n",
    "<br>\n",
    "\n",
    "- To cut down on the number of features selected, some of them are fused into new features, for example:\n",
    "   - Wins and losses combine to form a win/loss ratio\n",
    "   - Point scored against are deducted from the points score, becoming a point difference"
   ]
  },
  {
   "cell_type": "code",
   "execution_count": null,
   "metadata": {},
   "outputs": [],
   "source": [
    "# Filter the *teams* table by the selected features\n",
    "teams_selected_features = ['year', 'tmID', 'won', 'homeW', 'awayW', 'confW', 'lost', 'homeL', 'awayL', 'confL',\n",
    "                           'rank', 'attend', 'd_pts', 'o_pts']\n",
    "train_df = teams[teams_selected_features]\n",
    "\n",
    "# Create the new features, combining exisiting ones\n",
    "train_df['win_ratio'] = train_df['won'] / train_df['lost']\n",
    "train_df['home_win_ratio'] = train_df['homeW'] / train_df['homeL']\n",
    "train_df['away_win_ratio'] = train_df['awayW'] / train_df['awayL']\n",
    "train_df['conf_win_ratio'] = train_df['confW'] / train_df['confL']\n",
    "train_df['point_dif'] = train_df['d_pts'] - train_df['o_pts']\n",
    "\n",
    "# Drop the now redundant features\n",
    "train_df.drop(columns=['won', 'homeW', 'awayW', 'confW', 'lost', 'homeL', 'awayL', 'confL', 'd_pts', 'o_pts'], inplace=True)\n",
    "\n",
    "train_df"
   ]
  },
  {
   "cell_type": "markdown",
   "metadata": {},
   "source": [
    "- To these, the average player's height and weight of each team in every year is added."
   ]
  },
  {
   "cell_type": "code",
   "execution_count": null,
   "metadata": {},
   "outputs": [],
   "source": [
    "# Merge player data with their respective team and year in *players_team* table\n",
    "player_data_team_merged_df = pd.merge(players, players_teams, left_on='bioID', right_on='playerID')\n",
    "player_data_team_merged_df = player_data_team_merged_df[['bioID', 'tmID', 'year', 'height', 'weight']]\n",
    "\n",
    "# Calculate the average height and weight of players of every team for every year\n",
    "avg_stats = round(player_data_team_merged_df.groupby(['tmID', 'year'])[['height', 'weight']].mean(), 2)\n",
    "avg_stats.rename(columns={\"height\": \"avg_player_height\", \"weight\": \"avg_player_weight\"}, inplace=True)\n",
    "\n",
    "# Combine the average player stats with the training data by team and year\n",
    "train_df = pd.merge(train_df, avg_stats, on=[\"tmID\", \"year\"])"
   ]
  },
  {
   "cell_type": "markdown",
   "metadata": {},
   "source": [
    "- Finally, merge with the player and coaches awards' values, also by team and per year."
   ]
  },
  {
   "cell_type": "code",
   "execution_count": null,
   "metadata": {},
   "outputs": [],
   "source": [
    "# Merge player award data with their respective team and year in *players_team* table\n",
    "player_award_team_merged_df = pd.merge(awards_players, players_teams, on=['playerID', 'year', 'lgID'])\n",
    "player_award_team_merged_df = player_award_team_merged_df[['playerID', 'tmID', 'year', 'award', 'award_value']]\n",
    "\n",
    "# Calculate the sum of players awards' values of every team for every year\n",
    "player_award_values_sum = player_award_team_merged_df.groupby(['tmID', 'year'])['award_value'].sum()\n",
    "player_award_values_sum.name = 'sum_award_values'\n",
    "\n",
    "# Combine the sum player award values with the training data by team and year\n",
    "train_df = pd.merge(train_df, player_award_values_sum, how=\"left\", on=[\"tmID\", \"year\"])\n",
    "\n",
    "# Merge coach award data with their respective team and year in *coaches* table\n",
    "coach_award_team_merged_df = pd.merge(awards_players, coaches, left_on=['playerID', 'year', 'lgID'], right_on=['coachID', 'year', 'lgID'])\n",
    "coach_award_team_merged_df.rename(columns={'award_value': 'coach_award_value'}, inplace=True)\n",
    "coach_award_team_merged_df = coach_award_team_merged_df[['tmID', 'year', 'coach_award_value']]\n",
    "\n",
    "# Combine the coach award values with the training data by team and year\n",
    "train_df = pd.merge(train_df, coach_award_team_merged_df, how=\"left\", on=[\"tmID\", \"year\"])\n",
    "\n",
    "# Replace NaN values from the resulting merges with 0\n",
    "train_df.fillna(0, inplace=True)\n",
    "\n",
    "# Sum the players awards' value with the coach's\n",
    "train_df['sum_award_values'] = train_df['sum_award_values'] + train_df['coach_award_value']\n",
    "train_df.drop(columns=['coach_award_value'], inplace=True)"
   ]
  },
  {
   "cell_type": "markdown",
   "metadata": {},
   "source": [
    "The final training dataset looks as shown below:"
   ]
  },
  {
   "cell_type": "code",
   "execution_count": null,
   "metadata": {},
   "outputs": [],
   "source": [
    "# Display the train dataset\n",
    "train_df"
   ]
  },
  {
   "cell_type": "markdown",
   "metadata": {},
   "source": [
    "## Step 5: Model Evaluation\n",
    "\n",
    "In this step, the data is split into training and testing sets, and then a series of models are trained and evaluated.\n",
    "\n",
    "I will start by using data from wins, losses, team rank, attendance and offensive and defensive stats to predict playoff qualification. I will use years 1 to 9 to train and predict year 10. To start, we will try random forest."
   ]
  },
  {
   "cell_type": "code",
   "execution_count": null,
   "metadata": {},
   "outputs": [],
   "source": [
    "import pandas as pd\n",
    "from sklearn.ensemble import RandomForestClassifier\n",
    "from sklearn.model_selection import train_test_split\n",
    "from sklearn.metrics import mean_absolute_error\n",
    "from sklearn.metrics import confusion_matrix\n",
    "\n",
    "selected_features = ['homeW', 'homeL', 'awayW', 'awayL', 'rank', 'attend', 'year']\n",
    "X = teams[selected_features]\n",
    "\n",
    "y = teams['playoff']\n",
    "X_train, X_test, y_train, y_test = train_test_split(X, y, test_size=0.2, random_state=42)\n",
    "\n",
    "model = RandomForestClassifier(n_estimators=100, random_state=42)\n",
    "model.fit(X_train, y_train)\n",
    "\n",
    "predictions = model.predict(X_test)\n",
    "\n",
    "error = mean_absolute_error(y_test, predictions)\n",
    "print(f'Mean Absolute Error: {error}')\n",
    "\n",
    "cm = confusion_matrix(y_test, predictions)\n",
    "\n",
    "plt.figure(figsize=(10,7))\n",
    "sns.heatmap(cm, annot=True, fmt='d')\n",
    "plt.xlabel('Predicted')\n",
    "plt.ylabel('Truth')\n",
    "plt.show()"
   ]
  }
 ],
 "metadata": {
  "kernelspec": {
   "display_name": "Python 3",
   "language": "python",
   "name": "python3"
  },
  "language_info": {
   "codemirror_mode": {
    "name": "ipython",
    "version": 3
   },
   "file_extension": ".py",
   "mimetype": "text/x-python",
   "name": "python",
   "nbconvert_exporter": "python",
   "pygments_lexer": "ipython3",
   "version": "3.10.8"
  },
  "orig_nbformat": 4
 },
 "nbformat": 4,
 "nbformat_minor": 2
}
